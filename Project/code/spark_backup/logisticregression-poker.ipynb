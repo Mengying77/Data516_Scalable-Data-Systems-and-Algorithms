{
 "cells": [
  {
   "cell_type": "markdown",
   "metadata": {},
   "source": [
    "# Classification in Spark\n",
    "\n",
    "The intent of this blog is to demonstrate binary classification in pySpark. The various steps involved in developing a classification model in pySpark are as follows:\n",
    "\n",
    "1) Initialize a Spark session\n",
    "\n",
    "2) Download and read the the dataset\n",
    "\n",
    "3) Developing initial understanding about the data\n",
    "\n",
    "4) Handling missing values\n",
    "\n",
    "5) Scalerizing the features\n",
    "\n",
    "6) Train test split\n",
    "\n",
    "7) Imbalance handling\n",
    "\n",
    "8) Feature selection\n",
    "\n",
    "9) Performance evaluation"
   ]
  },
  {
   "cell_type": "code",
   "execution_count": 1,
   "metadata": {},
   "outputs": [],
   "source": [
    "# Initializing a Spark session\n",
    "from pyspark.sql import SparkSession\n",
    "import time\n",
    "spark = SparkSession.builder.master(\"local\").appName(\"poker\").config(\"spark.some.config.option\",\"some-value\").getOrCreate()"
   ]
  },
  {
   "cell_type": "markdown",
   "metadata": {},
   "source": [
    "# Download and read the dataset"
   ]
  },
  {
   "cell_type": "code",
   "execution_count": 2,
   "metadata": {},
   "outputs": [
    {
     "name": "stdout",
     "output_type": "stream",
     "text": [
      "/home/hadoop\n",
      "diabetes.csv\t\t\t    logisticregression-flight.ipynb\n",
      "hw3.ipynb\t\t\t    logisticregression-Income.ipynb\n",
      "launchJupyter.sh\t\t    logisticregression-poker.ipynb\n",
      "logisticregression_diabeties.ipynb  spark_2.ipynb\n"
     ]
    }
   ],
   "source": [
    "!pwd\n",
    "!ls"
   ]
  },
  {
   "cell_type": "code",
   "execution_count": 3,
   "metadata": {},
   "outputs": [
    {
     "name": "stdout",
     "output_type": "stream",
     "text": [
      "--- 13.2866048813 seconds ---\n"
     ]
    },
    {
     "data": {
      "text/plain": [
       "['s1', 'c1', 's2', 'c2', 's3', 'c3', 's4', 'c4', 's5', 'c5', 'Class']"
      ]
     },
     "execution_count": 3,
     "metadata": {},
     "output_type": "execute_result"
    }
   ],
   "source": [
    "# create a Spark dataframe named 'raw_data'\n",
    "start_time = time.time()\n",
    "raw_data = spark.read.csv('s3://516ml/poker_hand.csv',\n",
    "                    header='true', inferSchema='true')\n",
    "print(\"--- %s seconds ---\" % (time.time() - start_time))\n",
    "\n",
    "raw_data.columns"
   ]
  },
  {
   "cell_type": "code",
   "execution_count": 4,
   "metadata": {},
   "outputs": [
    {
     "name": "stdout",
     "output_type": "stream",
     "text": [
      "+---+---+---+---+---+---+---+---+---+---+-----+\n",
      "| s1| c1| s2| c2| s3| c3| s4| c4| s5| c5|Class|\n",
      "+---+---+---+---+---+---+---+---+---+---+-----+\n",
      "|  4|  7|  3|  5|  3|  3|  1| 13|  4|  8|    0|\n",
      "|  2|  8|  4|  9|  4|  6|  4|  1|  3|  7|    0|\n",
      "|  3|  6|  1|  3|  2| 11|  3|  9|  2|  3|    1|\n",
      "|  2| 10|  2|  5|  4| 13|  3|  9|  1|  6|    0|\n",
      "|  3|  2|  1|  3|  4|  7|  3|  5|  1| 11|    0|\n",
      "+---+---+---+---+---+---+---+---+---+---+-----+\n",
      "only showing top 5 rows\n",
      "\n"
     ]
    }
   ],
   "source": [
    "raw_data.show(5)"
   ]
  },
  {
   "cell_type": "code",
   "execution_count": 5,
   "metadata": {},
   "outputs": [
    {
     "name": "stdout",
     "output_type": "stream",
     "text": [
      "+-----------------+------------------+-----------------+-----------------+------------------+------------------+------------------+------------------+-----------------+------------------+------------------+\n",
      "|               s1|                c1|               s2|               c2|                s3|                c3|                s4|                c4|               s5|                c5|             Class|\n",
      "+-----------------+------------------+-----------------+-----------------+------------------+------------------+------------------+------------------+-----------------+------------------+------------------+\n",
      "|           800000|            800000|           800000|           800000|            800000|            800000|            800000|            800000|           800000|            800000|            800000|\n",
      "|        2.5004525|          7.003275|       2.49920375|       7.00594375|         2.4987175|         6.9897175|        2.49958375|         6.9983725|       2.50062125|        7.00085125|          0.618005|\n",
      "|1.117538078258609|3.7412764226680117|1.118833513406473|3.742278841514831|1.1192284936661736|3.7401111956375295|1.1179574629752365|3.7444325173799746|1.118443640821309|3.7420910637543634|0.7747487142741657|\n",
      "|                1|                 1|                1|                1|                 1|                 1|                 1|                 1|                1|                 1|                 0|\n",
      "|                4|                13|                4|               13|                 4|                13|                 4|                13|                4|                13|                 9|\n",
      "+-----------------+------------------+-----------------+-----------------+------------------+------------------+------------------+------------------+-----------------+------------------+------------------+\n",
      "\n"
     ]
    }
   ],
   "source": [
    "raw_data.describe().select(\"s1\",\"c1\",\"s2\", \"c2\", \"s3\", \"c3\", \"s4\", \"c4\", \"s5\", \"c5\", \"Class\").show()"
   ]
  },
  {
   "cell_type": "markdown",
   "metadata": {},
   "source": [
    "replace all the zeros in the abaove mentioned fields (except \"Pregnancies\") with NaN."
   ]
  },
  {
   "cell_type": "code",
   "execution_count": 6,
   "metadata": {},
   "outputs": [],
   "source": [
    "import numpy as np\n",
    "from pyspark.sql.functions import when\n",
    "raw_data=raw_data.withColumn(\"Class\",when(raw_data.Class == 0,0.0).otherwise(1.0))\n",
    "cols = [\"s1\",\"c1\",\"s2\", \"c2\", \"s3\", \"c3\", \"s4\", \"c4\", \"s5\", \"c5\", \"Class\"]\n",
    "\n",
    "from pyspark.sql import functions as F\n",
    "\n",
    "for col in raw_data.columns:\n",
    "     raw_data= raw_data.withColumn(col,F.col(col).cast(\"float\"))"
   ]
  },
  {
   "cell_type": "code",
   "execution_count": 9,
   "metadata": {},
   "outputs": [
    {
     "name": "stdout",
     "output_type": "stream",
     "text": [
      "+---+----+---+----+---+----+---+----+---+----+-----+\n",
      "| s1|  c1| s2|  c2| s3|  c3| s4|  c4| s5|  c5|Class|\n",
      "+---+----+---+----+---+----+---+----+---+----+-----+\n",
      "|4.0| 7.0|3.0| 5.0|3.0| 3.0|1.0|13.0|4.0| 8.0|  0.0|\n",
      "|2.0| 8.0|4.0| 9.0|4.0| 6.0|4.0| 1.0|3.0| 7.0|  0.0|\n",
      "|3.0| 6.0|1.0| 3.0|2.0|11.0|3.0| 9.0|2.0| 3.0|  1.0|\n",
      "|2.0|10.0|2.0| 5.0|4.0|13.0|3.0| 9.0|1.0| 6.0|  0.0|\n",
      "|3.0| 2.0|1.0| 3.0|4.0| 7.0|3.0| 5.0|1.0|11.0|  0.0|\n",
      "|2.0| 1.0|3.0| 6.0|2.0|10.0|4.0|11.0|2.0| 6.0|  1.0|\n",
      "|2.0| 3.0|2.0| 4.0|3.0| 5.0|4.0|12.0|1.0| 6.0|  0.0|\n",
      "|4.0| 9.0|4.0| 7.0|3.0| 7.0|1.0| 6.0|2.0| 4.0|  1.0|\n",
      "|4.0| 7.0|2.0| 4.0|3.0| 7.0|2.0| 8.0|2.0|11.0|  1.0|\n",
      "|4.0| 8.0|3.0| 8.0|1.0|11.0|3.0| 5.0|2.0| 1.0|  1.0|\n",
      "|1.0| 7.0|3.0|10.0|3.0| 7.0|3.0| 4.0|2.0| 1.0|  1.0|\n",
      "|1.0| 3.0|4.0| 2.0|3.0|11.0|2.0| 2.0|3.0| 4.0|  1.0|\n",
      "|4.0| 1.0|2.0| 9.0|4.0| 6.0|3.0| 2.0|1.0| 3.0|  0.0|\n",
      "|2.0| 2.0|1.0| 2.0|4.0| 8.0|4.0|12.0|3.0| 4.0|  1.0|\n",
      "|4.0|11.0|1.0| 5.0|3.0| 6.0|2.0|13.0|4.0| 7.0|  0.0|\n",
      "|1.0| 9.0|2.0| 8.0|4.0|11.0|4.0| 9.0|1.0|11.0|  1.0|\n",
      "|1.0| 4.0|4.0|11.0|2.0|10.0|4.0| 1.0|4.0| 4.0|  1.0|\n",
      "|2.0|10.0|2.0|11.0|2.0| 3.0|2.0| 4.0|1.0| 2.0|  0.0|\n",
      "|4.0|13.0|2.0| 1.0|3.0| 5.0|1.0| 1.0|2.0| 7.0|  1.0|\n",
      "|3.0|11.0|3.0| 8.0|2.0| 5.0|2.0| 2.0|4.0| 5.0|  1.0|\n",
      "+---+----+---+----+---+----+---+----+---+----+-----+\n",
      "only showing top 20 rows\n",
      "\n"
     ]
    }
   ],
   "source": [
    "raw_data.show()"
   ]
  },
  {
   "cell_type": "markdown",
   "metadata": {},
   "source": [
    "So we have replaced all \"0\" with NaN. Now, we can simply impute the NaN by calling an imputer :)"
   ]
  },
  {
   "cell_type": "code",
   "execution_count": 10,
   "metadata": {},
   "outputs": [
    {
     "name": "stdout",
     "output_type": "stream",
     "text": [
      "+---+----+---+---+---+----+---+----+---+----+-----+\n",
      "| s1|  c1| s2| c2| s3|  c3| s4|  c4| s5|  c5|Class|\n",
      "+---+----+---+---+---+----+---+----+---+----+-----+\n",
      "|4.0| 7.0|3.0|5.0|3.0| 3.0|1.0|13.0|4.0| 8.0|  0.0|\n",
      "|2.0| 8.0|4.0|9.0|4.0| 6.0|4.0| 1.0|3.0| 7.0|  0.0|\n",
      "|3.0| 6.0|1.0|3.0|2.0|11.0|3.0| 9.0|2.0| 3.0|  1.0|\n",
      "|2.0|10.0|2.0|5.0|4.0|13.0|3.0| 9.0|1.0| 6.0|  0.0|\n",
      "|3.0| 2.0|1.0|3.0|4.0| 7.0|3.0| 5.0|1.0|11.0|  0.0|\n",
      "+---+----+---+---+---+----+---+----+---+----+-----+\n",
      "only showing top 5 rows\n",
      "\n"
     ]
    }
   ],
   "source": [
    "from pyspark.ml.feature import Imputer\n",
    "cols = [\"s1\",\"c1\",\"s2\", \"c2\", \"s3\", \"c3\", \"s4\", \"c4\", \"s5\", \"c5\", \"Class\"]\n",
    "\n",
    "imputer=Imputer(inputCols=cols,outputCols=cols)\n",
    "model=imputer.fit(raw_data)\n",
    "raw_data=model.transform(raw_data)\n",
    "raw_data.show(5)"
   ]
  },
  {
   "cell_type": "markdown",
   "metadata": {},
   "source": [
    "combine all the features in one single feature vector. "
   ]
  },
  {
   "cell_type": "code",
   "execution_count": 11,
   "metadata": {},
   "outputs": [
    {
     "name": "stdout",
     "output_type": "stream",
     "text": [
      "+-------------------------------------------+\n",
      "|features                                   |\n",
      "+-------------------------------------------+\n",
      "|[4.0,7.0,3.0,5.0,3.0,3.0,1.0,13.0,4.0,8.0] |\n",
      "|[2.0,8.0,4.0,9.0,4.0,6.0,4.0,1.0,3.0,7.0]  |\n",
      "|[3.0,6.0,1.0,3.0,2.0,11.0,3.0,9.0,2.0,3.0] |\n",
      "|[2.0,10.0,2.0,5.0,4.0,13.0,3.0,9.0,1.0,6.0]|\n",
      "|[3.0,2.0,1.0,3.0,4.0,7.0,3.0,5.0,1.0,11.0] |\n",
      "|[2.0,1.0,3.0,6.0,2.0,10.0,4.0,11.0,2.0,6.0]|\n",
      "|[2.0,3.0,2.0,4.0,3.0,5.0,4.0,12.0,1.0,6.0] |\n",
      "|[4.0,9.0,4.0,7.0,3.0,7.0,1.0,6.0,2.0,4.0]  |\n",
      "|[4.0,7.0,2.0,4.0,3.0,7.0,2.0,8.0,2.0,11.0] |\n",
      "|[4.0,8.0,3.0,8.0,1.0,11.0,3.0,5.0,2.0,1.0] |\n",
      "|[1.0,7.0,3.0,10.0,3.0,7.0,3.0,4.0,2.0,1.0] |\n",
      "|[1.0,3.0,4.0,2.0,3.0,11.0,2.0,2.0,3.0,4.0] |\n",
      "|[4.0,1.0,2.0,9.0,4.0,6.0,3.0,2.0,1.0,3.0]  |\n",
      "|[2.0,2.0,1.0,2.0,4.0,8.0,4.0,12.0,3.0,4.0] |\n",
      "|[4.0,11.0,1.0,5.0,3.0,6.0,2.0,13.0,4.0,7.0]|\n",
      "|[1.0,9.0,2.0,8.0,4.0,11.0,4.0,9.0,1.0,11.0]|\n",
      "|[1.0,4.0,4.0,11.0,2.0,10.0,4.0,1.0,4.0,4.0]|\n",
      "|[2.0,10.0,2.0,11.0,2.0,3.0,2.0,4.0,1.0,2.0]|\n",
      "|[4.0,13.0,2.0,1.0,3.0,5.0,1.0,1.0,2.0,7.0] |\n",
      "|[3.0,11.0,3.0,8.0,2.0,5.0,2.0,2.0,4.0,5.0] |\n",
      "+-------------------------------------------+\n",
      "only showing top 20 rows\n",
      "\n"
     ]
    }
   ],
   "source": [
    "cols.remove(\"Class\")\n",
    "# import the vector assembler\n",
    "from pyspark.ml.feature import VectorAssembler\n",
    "assembler = VectorAssembler(inputCols=cols,outputCol=\"features\")\n",
    "# use the transform method to transform our dataset\n",
    "raw_data=assembler.transform(raw_data)\n",
    "raw_data.select(\"features\").show(truncate=False)"
   ]
  },
  {
   "cell_type": "markdown",
   "metadata": {},
   "source": [
    "# Standard Sclarizer \n",
    "\n",
    "So we have created a feature vector. Now let us use StandardScaler to scalerize the newly created \"feature\" column "
   ]
  },
  {
   "cell_type": "code",
   "execution_count": 12,
   "metadata": {},
   "outputs": [
    {
     "name": "stdout",
     "output_type": "stream",
     "text": [
      "+--------------------+--------------------+\n",
      "|            features|     Scaled_features|\n",
      "+--------------------+--------------------+\n",
      "|[4.0,7.0,3.0,5.0,...|[3.57929638176889...|\n",
      "|[2.0,8.0,4.0,9.0,...|[1.78964819088444...|\n",
      "|[3.0,6.0,1.0,3.0,...|[2.68447228632666...|\n",
      "|[2.0,10.0,2.0,5.0...|[1.78964819088444...|\n",
      "|[3.0,2.0,1.0,3.0,...|[2.68447228632666...|\n",
      "+--------------------+--------------------+\n",
      "only showing top 5 rows\n",
      "\n"
     ]
    }
   ],
   "source": [
    "from pyspark.ml.feature import StandardScaler\n",
    "standardscaler=StandardScaler().setInputCol(\"features\").setOutputCol(\"Scaled_features\")\n",
    "raw_data=standardscaler.fit(raw_data).transform(raw_data)\n",
    "raw_data.select(\"features\",\"Scaled_features\").show(5)"
   ]
  },
  {
   "cell_type": "markdown",
   "metadata": {
    "collapsed": true
   },
   "source": [
    "# Train, test split\n",
    "\n",
    "Now that the preprocessing of the data is complete. Let us split the dataset in training and testing set. "
   ]
  },
  {
   "cell_type": "code",
   "execution_count": 13,
   "metadata": {},
   "outputs": [],
   "source": [
    "train, test = raw_data.randomSplit([0.8, 0.2], seed=12345)"
   ]
  },
  {
   "cell_type": "markdown",
   "metadata": {},
   "source": [
    "Let us check whether their is imbalance in the dataset"
   ]
  },
  {
   "cell_type": "code",
   "execution_count": 14,
   "metadata": {},
   "outputs": [
    {
     "name": "stdout",
     "output_type": "stream",
     "text": [
      "The number of ones are 319077\n",
      "Percentage of ones are 49.8915628552\n"
     ]
    }
   ],
   "source": [
    "dataset_size=float(train.select(\"Class\").count())\n",
    "numPositives=train.select(\"Class\").where('Class == 1').count()\n",
    "per_ones=(float(numPositives)/float(dataset_size))*100\n",
    "numNegatives=float(dataset_size-numPositives)\n",
    "print('The number of ones are {}'.format(numPositives))\n",
    "print('Percentage of ones are {}'.format(per_ones))"
   ]
  },
  {
   "cell_type": "markdown",
   "metadata": {},
   "source": [
    "# Imbalancing handling\n",
    "\n",
    "Since the percentage of ones in the dataset is just 49.89 % there is no imbalance in the dataset. "
   ]
  },
  {
   "cell_type": "code",
   "execution_count": 15,
   "metadata": {},
   "outputs": [
    {
     "name": "stdout",
     "output_type": "stream",
     "text": [
      "BalancingRatio = 0.501084371448\n"
     ]
    }
   ],
   "source": [
    "BalancingRatio= numNegatives/dataset_size\n",
    "print('BalancingRatio = {}'.format(BalancingRatio))"
   ]
  },
  {
   "cell_type": "code",
   "execution_count": 17,
   "metadata": {},
   "outputs": [
    {
     "name": "stdout",
     "output_type": "stream",
     "text": [
      "+------------------+\n",
      "|      classWeights|\n",
      "+------------------+\n",
      "|0.5010843714476476|\n",
      "|0.5010843714476476|\n",
      "|0.5010843714476476|\n",
      "|0.4989156285523524|\n",
      "|0.4989156285523524|\n",
      "+------------------+\n",
      "only showing top 5 rows\n",
      "\n"
     ]
    }
   ],
   "source": [
    "from pyspark.sql.functions import when\n",
    "train=train.withColumn(\"classWeights\", when(train.Class == 1,BalancingRatio).otherwise(1-BalancingRatio))\n",
    "train.select(\"classWeights\").show(5)"
   ]
  },
  {
   "cell_type": "markdown",
   "metadata": {},
   "source": [
    "# Feature selection\n",
    "\n",
    "We use the ChiSqSelector provided by Spark ML for selecting significant features. Please refer my previous blog for more details about working of the ChiSqSelector.   "
   ]
  },
  {
   "cell_type": "markdown",
   "metadata": {},
   "source": [
    "# Building a classification model using Logistic Regression (LR)"
   ]
  },
  {
   "cell_type": "code",
   "execution_count": 18,
   "metadata": {},
   "outputs": [
    {
     "name": "stdout",
     "output_type": "stream",
     "text": [
      "--- 7.70885491371 seconds ---\n",
      "+-----+----------+\n",
      "|Class|prediction|\n",
      "+-----+----------+\n",
      "|  0.0|       1.0|\n",
      "|  0.0|       0.0|\n",
      "|  0.0|       0.0|\n",
      "|  0.0|       1.0|\n",
      "|  0.0|       0.0|\n",
      "|  0.0|       1.0|\n",
      "|  1.0|       1.0|\n",
      "|  1.0|       1.0|\n",
      "|  0.0|       1.0|\n",
      "|  1.0|       1.0|\n",
      "+-----+----------+\n",
      "only showing top 10 rows\n",
      "\n"
     ]
    }
   ],
   "source": [
    "from pyspark.ml.classification import LogisticRegression\n",
    "start_time = time.time()\n",
    "lr = LogisticRegression(labelCol=\"Class\", featuresCol=\"Scaled_features\",weightCol=\"classWeights\",maxIter=10)\n",
    "model = lr.fit(train)    \n",
    "\n",
    "print(\"--- %s seconds ---\" % (time.time() - start_time))\n",
    "predict_train=model.transform(train)\n",
    "predict_test=model.transform(test)\n",
    "\n",
    "predict_test.select(\"Class\",\"prediction\").show(10)"
   ]
  },
  {
   "cell_type": "markdown",
   "metadata": {},
   "source": [
    "# Evaluating the model\n",
    "\n",
    "Now let us evaluate the model using BinaryClassificationEvaluator class in Spark ML. BinaryClassificationEvaluator by default uses areaUnderROC as the performance metric "
   ]
  },
  {
   "cell_type": "code",
   "execution_count": 20,
   "metadata": {},
   "outputs": [],
   "source": [
    "# The BinaryClassificationEvaluator uses areaUnderROC as the default metric. As of now we will continue with the same\n",
    "from pyspark.ml.evaluation import BinaryClassificationEvaluator\n",
    "evaluator=BinaryClassificationEvaluator(rawPredictionCol=\"rawPrediction\",labelCol=\"Class\")"
   ]
  },
  {
   "cell_type": "code",
   "execution_count": 21,
   "metadata": {},
   "outputs": [
    {
     "name": "stdout",
     "output_type": "stream",
     "text": [
      "+-----+--------------------+----------+--------------------+\n",
      "|Class|       rawPrediction|prediction|         probability|\n",
      "+-----+--------------------+----------+--------------------+\n",
      "|  0.0|[-0.0135468291428...|       1.0|[0.49661334450642...|\n",
      "|  0.0|[0.00263747611009...|       0.0|[0.50065936864529...|\n",
      "|  0.0|[3.97057425569571...|       0.0|[0.50009926435508...|\n",
      "|  0.0|[-0.0044332015137...|       1.0|[0.49889170143671...|\n",
      "|  0.0|[0.00284999559641...|       0.0|[0.50071249841683...|\n",
      "+-----+--------------------+----------+--------------------+\n",
      "only showing top 5 rows\n",
      "\n"
     ]
    }
   ],
   "source": [
    "predict_test.select(\"Class\",\"rawPrediction\",\"prediction\",\"probability\").show(5)"
   ]
  },
  {
   "cell_type": "code",
   "execution_count": 22,
   "metadata": {},
   "outputs": [
    {
     "name": "stdout",
     "output_type": "stream",
     "text": [
      "The area under ROC for train set is 0.502290170117\n",
      "The area under ROC for test set is 0.500179749646\n"
     ]
    }
   ],
   "source": [
    "print(\"The area under ROC for train set is {}\".format(evaluator.evaluate(predict_train)))\n",
    "print(\"The area under ROC for test set is {}\".format(evaluator.evaluate(predict_test)))"
   ]
  },
  {
   "cell_type": "markdown",
   "metadata": {},
   "source": [
    "# Hyper parameters\n",
    "\n",
    "To this point we have developed a classification model using logistic regression. However, the working of logistic regression depends upon the on a number of parameters. As of now we have worked with only the default parameters. Now, let s try to tune the hyperparameters and see whether it make any difference.  "
   ]
  },
  {
   "cell_type": "code",
   "execution_count": null,
   "metadata": {},
   "outputs": [],
   "source": [
    "# if you are unsure which parameters to tune pls use \"print(lr.explainParams())\" to get the list of parameters available for tuning  \n",
    "print(lr.explainParams())"
   ]
  },
  {
   "cell_type": "markdown",
   "metadata": {},
   "source": [
    "# List of tunable parameters in LR\n",
    "\n",
    "1) aggregationDepth: suggested depth for treeAggregate (>= 2). (default: 2)\n",
    "\n",
    "2) elasticNetParam: the ElasticNet mixing parameter, in range [0, 1]. For alpha = 0, the penalty is an L2 penalty. For alpha = 1, it is an L1 penalty. (default: 0.0)\n",
    "\n",
    "3) family: The name of family which is a description of the label distribution to be used in the model. Supported options: auto, binomial, multinomial (default: auto)\n",
    "\n",
    "4) featuresCol: features column name. (default: features, current: Aspect)\n",
    "\n",
    "5) fitIntercept: whether to fit an intercept term. (default: True)\n",
    "\n",
    "6) labelCol: label column name. (default: label, current: Outcome)\n",
    "\n",
    "7) maxIter: max number of iterations (>= 0). (default: 100, current: 10)\n",
    "\n",
    "8) predictionCol: prediction column name. (default: prediction)\n",
    "\n",
    "9) probabilityCol: Column name for predicted class conditional probabilities. Note: Not all models output well-calibrated probability estimates! These probabilities should be treated as confidences, not precise probabilities. (default: probability)\n",
    "\n",
    "10) rawPredictionCol: raw prediction (a.k.a. confidence) column name. (default: rawPrediction)\n",
    "\n",
    "11) regParam: regularization parameter (>= 0). (default: 0.0)\n",
    "\n",
    "12) standardization: whether to standardize the training features before fitting the model. (default: True)\n",
    "\n",
    "13) threshold: Threshold in binary classification prediction, in range [0, 1].\n",
    "\n",
    "14) If threshold and thresholds are both set, they must match.e.g. if threshold is p, then thresholds must be equal to [1-p, p]. (default: 0.5)\n",
    "\n",
    "15) thresholds: Thresholds in multi-class classification to adjust the probability of predicting each class. Array must have length equal to the number of classes, with values > 0, excepting that at most one value may be 0. The class with largest value p/t is predicted, where p is the original probability of that class and t is the class's threshold. (undefined)\n",
    "\n",
    "16) tol: the convergence tolerance for iterative algorithms (>= 0). (default: 1e-06)\n",
    "\n",
    "17) weightCol: weight column name. If this is not set or empty, we treat all instance weights as 1.0. (current: classWeights)\n",
    "\n",
    "\n",
    "Now let us tune some of these parameters and observe their effect on the performance of the algorithm.\n",
    "\n",
    "For the purpose of hyperparameter tuning we will consider the following parameters:\n",
    "\n",
    "1) aggregationDepth [2, 5, 10]\n",
    "\n",
    "2) elasticNetParam [0.0, 0.5, 1.0]\n",
    "\n",
    "3) fitIntercept [True / False]\n",
    "\n",
    "4) maxIter [10, 100, 1000]\n",
    "\n",
    "5) regParam [0.01, 0.5, 2.0]\n",
    "\n",
    "frist off all let us define a parameter grid as follows:"
   ]
  },
  {
   "cell_type": "code",
   "execution_count": 50,
   "metadata": {},
   "outputs": [],
   "source": [
    "from pyspark.ml.tuning import ParamGridBuilder, CrossValidator\n",
    "\n",
    "paramGrid = ParamGridBuilder()\\\n",
    "    .addGrid(lr.aggregationDepth,[2,5,10])\\\n",
    "    .addGrid(lr.elasticNetParam,[0.0, 0.5, 1.0])\\\n",
    "    .addGrid(lr.fitIntercept,[False, True])\\\n",
    "    .addGrid(lr.maxIter,[10, 100, 1000])\\\n",
    "    .addGrid(lr.regParam,[0.01, 0.5, 2.0]) \\\n",
    "    .build()\n",
    "\n",
    "# https://spark.apache.org/docs/2.1.0/ml-tuning.html"
   ]
  },
  {
   "cell_type": "markdown",
   "metadata": {},
   "source": [
    "# K-fold cross validation"
   ]
  },
  {
   "cell_type": "code",
   "execution_count": 51,
   "metadata": {},
   "outputs": [
    {
     "name": "stdout",
     "output_type": "stream",
     "text": [
      "The area under ROC for train set after CV  is 0.502293334574\n",
      "The area under ROC for test set after CV  is 0.500314937307\n"
     ]
    }
   ],
   "source": [
    "# Create 5-fold CrossValidator\n",
    "cv = CrossValidator(estimator=lr, estimatorParamMaps=paramGrid, evaluator=evaluator, numFolds=5)\n",
    "\n",
    "# Run cross validations\n",
    "cvModel = cv.fit(train)\n",
    "# this will likely take a fair amount of time because of the amount of models that we're creating and testing\n",
    "predict_train=cvModel.transform(train)\n",
    "predict_test=cvModel.transform(test)\n",
    "print(\"The area under ROC for train set after CV  is {}\".format(evaluator.evaluate(predict_train)))\n",
    "print(\"The area under ROC for test set after CV  is {}\".format(evaluator.evaluate(predict_test)))"
   ]
  },
  {
   "cell_type": "code",
   "execution_count": 52,
   "metadata": {},
   "outputs": [
    {
     "name": "stdout",
     "output_type": "stream",
     "text": [
      "(800000, 13)\n"
     ]
    }
   ],
   "source": [
    "print((raw_data.count(), len(raw_data.columns)))"
   ]
  }
 ],
 "metadata": {
  "kernelspec": {
   "display_name": "Python 2",
   "language": "python",
   "name": "python2"
  },
  "language_info": {
   "codemirror_mode": {
    "name": "ipython",
    "version": 2
   },
   "file_extension": ".py",
   "mimetype": "text/x-python",
   "name": "python",
   "nbconvert_exporter": "python",
   "pygments_lexer": "ipython2",
   "version": "2.7.16"
  }
 },
 "nbformat": 4,
 "nbformat_minor": 2
}
