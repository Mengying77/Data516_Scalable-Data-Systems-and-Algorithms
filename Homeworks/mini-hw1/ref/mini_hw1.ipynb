{
 "cells": [
  {
   "cell_type": "code",
   "execution_count": 1,
   "metadata": {},
   "outputs": [],
   "source": [
    "from pyspark.sql import SparkSession\n",
    "\n",
    "spark = SparkSession \\\n",
    "    .builder \\\n",
    "    .appName(\"mini_hw1\") \\\n",
    "    .getOrCreate()"
   ]
  },
  {
   "cell_type": "code",
   "execution_count": 2,
   "metadata": {},
   "outputs": [
    {
     "name": "stdout",
     "output_type": "stream",
     "text": [
      "['FL_DATE', 'CARRIER', 'ORIGIN', 'ORIGIN_CITY_NAME', 'ORIGIN_STATE_ABR', 'DEST', 'DEST_CITY_NAME', 'DEST_STATE_ABR', 'DEP_TIME', 'DEP_DELAY', 'ARR_DELAY']\n",
      "['IATA_CODE', 'AIRPORT', 'CITY', 'STATE', 'COUNTRY', 'LATITUDE', 'LONGITUDE']\n"
     ]
    }
   ],
   "source": [
    "# Obtain departure Delays data\n",
    "delay = spark.read.csv(\"s3n://csed516/Flights/flights.csv\", header=\"true\", inferSchema=\"true\")\n",
    "delay.registerTempTable(\"departureDelays\")\n",
    "delay.cache()\n",
    "print(delay.columns)\n",
    "\n",
    "# Obtain airports dataset\n",
    "airports = spark.read.csv(\"s3n://csed516/Flights/airports.csv\", header=\"true\", inferSchema=\"true\")\n",
    "airports.registerTempTable(\"airports\")\n",
    "print(airports.columns)"
   ]
  },
  {
   "cell_type": "code",
   "execution_count": 3,
   "metadata": {},
   "outputs": [
    {
     "data": {
      "text/plain": [
       "1526121"
      ]
     },
     "execution_count": 3,
     "metadata": {},
     "output_type": "execute_result"
    }
   ],
   "source": [
    "# create trip IATA codes table\n",
    "tripIATA = sqlContext.sql(\"\"\"\n",
    "  SELECT DISTINCT IATA FROM(\n",
    "    SELECT DISTINCT ORIGIN AS iata FROM departureDelays \n",
    "    UNION ALL SELECT DISTINCT DEST AS iata FROM departureDelays) x\"\"\")\n",
    "tripIATA.registerTempTable(\"tripIATA\")\n",
    "\n",
    "# Merge airport data with tripIATA data\n",
    "airports = sqlContext.sql(\"\"\"\n",
    "   SELECT IATA_CODE AS IATA, City, State, Country \n",
    "   FROM airports\n",
    "   JOIN tripIATA trip ON trip.IATA = airports.IATA_CODE\"\"\")\n",
    "airports.registerTempTable(\"airports\")\n",
    "airports.cache()\n",
    "\n",
    "# Build `departureDelays_geo` DataFrame\n",
    "# Obtain key attributes such as Date of flight, delays, distance,\n",
    "# and airport information (Origin, Destination)\n",
    "departureDelays_geo = sqlContext.sql(\"\"\"\n",
    "    SELECT CAST(f.FL_DATE as int) as tripid,\n",
    "           CAST(CONCAT(CONCAT(CONCAT(CONCAT(CONCAT(CONCAT('2017-', CONCAT(CONCAT(SUBSTR(CAST(f.FL_DATE as string), 1, 2), '-')), SUBSTR(CAST(f.FL_DATE AS string), 3, 2)), ' '), SUBSTR(CAST(f.FL_DATE AS string), 5, 2)), ':'), SUBSTR(CAST(f.FL_DATE AS string), 7, 2)), ':00') as timestamp) as localdate,\n",
    "           CAST(f.DEP_DELAY as int) as delay, \n",
    "           f.ORIGIN AS src, f.DEST AS dst, o.city AS city_src,\n",
    "           d.city AS city_dst, \n",
    "           o.state AS state_src,\n",
    "           d.state AS state_dst\n",
    "    FROM departureDelays f \n",
    "    JOIN airports o \n",
    "        ON o.IATA = f.ORIGIN \n",
    "    JOIN airports d \n",
    "        ON d.IATA = f.DEST\"\"\")\n",
    "departureDelays_geo.registerTempTable(\"departureDelays_geo\")\n",
    "\n",
    "# Cache and Count\n",
    "departureDelays_geo.cache()\n",
    "departureDelays_geo.count()"
   ]
  },
  {
   "cell_type": "code",
   "execution_count": 4,
   "metadata": {},
   "outputs": [
    {
     "name": "stdout",
     "output_type": "stream",
     "text": [
      "+---+----------------+-----+-------+\n",
      "| id|            City|State|Country|\n",
      "+---+----------------+-----+-------+\n",
      "|FAT|          Fresno|   CA|    USA|\n",
      "|CMH|        Columbus|   OH|    USA|\n",
      "|PHX|         Phoenix|   AZ|    USA|\n",
      "|PAH|         Paducah|   KY|    USA|\n",
      "|ITH|          Ithaca|   NY|    USA|\n",
      "|COS|Colorado Springs|   CO|    USA|\n",
      "|PSE|           Ponce|   PR|    USA|\n",
      "|MYR|    Myrtle Beach|   SC|    USA|\n",
      "|RNO|            Reno|   NV|    USA|\n",
      "|VLD|        Valdosta|   GA|    USA|\n",
      "|PSC|           Pasco|   WA|    USA|\n",
      "|SRQ|        Sarasota|   FL|    USA|\n",
      "|LAX|     Los Angeles|   CA|    USA|\n",
      "|JMS|       Jamestown|   ND|    USA|\n",
      "|CAE|        Columbia|   SC|    USA|\n",
      "|DAY|          Dayton|   OH|    USA|\n",
      "|MFR|         Medford|   OR|    USA|\n",
      "|JFK|        New York|   NY|    USA|\n",
      "|LAS|       Las Vegas|   NV|    USA|\n",
      "|CLT|       Charlotte|   NC|    USA|\n",
      "+---+----------------+-----+-------+\n",
      "only showing top 20 rows\n",
      "\n",
      "+----------+-----+---+---+----------+---------+\n",
      "|    tripid|delay|src|dst|  city_dst|state_dst|\n",
      "+----------+-----+---+---+----------+---------+\n",
      "|1500336000|   -5|DTW|BGM|Binghamton|       NY|\n",
      "|1500336000|   58|DTW|BGM|Binghamton|       NY|\n",
      "|1500336000|   -2|DTW|BGM|Binghamton|       NY|\n",
      "|1500422400|   -5|DTW|BGM|Binghamton|       NY|\n",
      "|1500422400|   -7|DTW|BGM|Binghamton|       NY|\n",
      "|1500422400|  -10|DTW|BGM|Binghamton|       NY|\n",
      "|1500508800|   -4|DTW|BGM|Binghamton|       NY|\n",
      "|1500508800|   -4|DTW|BGM|Binghamton|       NY|\n",
      "|1500508800|    0|DTW|BGM|Binghamton|       NY|\n",
      "|1500595200|   -6|DTW|BGM|Binghamton|       NY|\n",
      "|1500595200|   -5|DTW|BGM|Binghamton|       NY|\n",
      "|1500595200|  164|DTW|BGM|Binghamton|       NY|\n",
      "|1500681600|   -5|DTW|BGM|Binghamton|       NY|\n",
      "|1500681600|   -8|DTW|BGM|Binghamton|       NY|\n",
      "|1500768000|   -3|DTW|BGM|Binghamton|       NY|\n",
      "|1500768000|   -6|DTW|BGM|Binghamton|       NY|\n",
      "|1500768000|   75|DTW|BGM|Binghamton|       NY|\n",
      "|1500854400|   -2|DTW|BGM|Binghamton|       NY|\n",
      "|1500854400|   -3|DTW|BGM|Binghamton|       NY|\n",
      "|1500854400|   -8|DTW|BGM|Binghamton|       NY|\n",
      "+----------+-----+---+---+----------+---------+\n",
      "only showing top 20 rows\n",
      "\n",
      "GraphFrame(v:[id: string, City: string ... 2 more fields], e:[src: string, dst: string ... 4 more fields])\n"
     ]
    }
   ],
   "source": [
    "from pyspark.sql.functions import *\n",
    "from graphframes import *\n",
    "\n",
    "tripVertices = airports.withColumnRenamed(\"IATA\", \"id\").distinct()\n",
    "tripEdges = departureDelays_geo.select(\"tripid\", \"delay\", \"src\", \"dst\", \"city_dst\", \"state_dst\")\n",
    "\n",
    "# Cache the graph\n",
    "tripEdges.cache()\n",
    "tripVertices.cache()\n",
    "\n",
    "# Examine the vertices and edges\n",
    "tripVertices.show()\n",
    "tripEdges.show()\n",
    "\n",
    "# Build the graph\n",
    "tripGraph = GraphFrame(tripVertices, tripEdges)\n",
    "print tripGraph\n",
    "\n",
    "# Project columns to build the smaller datastructure\n",
    "tripEdgesPrime = departureDelays_geo.select(\"tripid\", \"delay\", \"src\", \"dst\")\n",
    "tripGraphPrime = GraphFrame(tripVertices, tripEdgesPrime)"
   ]
  },
  {
   "cell_type": "code",
   "execution_count": 5,
   "metadata": {},
   "outputs": [
    {
     "name": "stdout",
     "output_type": "stream",
     "text": [
      "Airports: 299\n",
      "Trips: 1526121\n"
     ]
    }
   ],
   "source": [
    "#number of vertices and edges?\n",
    "print \"Airports: %d\" % tripGraph.vertices.count()\n",
    "print \"Trips: %d\" % tripGraph.edges.count()"
   ]
  },
  {
   "cell_type": "code",
   "execution_count": 20,
   "metadata": {},
   "outputs": [
    {
     "name": "stdout",
     "output_type": "stream",
     "text": [
      "GraphFrame(v:[id: string, City: string ... 2 more fields], e:[src: string, dst: string ... 2 more fields])\n",
      "Airports: 299\n",
      "Trips: 1526121\n"
     ]
    }
   ],
   "source": [
    "print tripGraphPrime\n",
    "#number of vertices and edges?\n",
    "print \"Airports: %d\" % tripGraphPrime.vertices.count()\n",
    "print \"Trips: %d\" % tripGraphPrime.edges.count()"
   ]
  },
  {
   "cell_type": "code",
   "execution_count": 36,
   "metadata": {},
   "outputs": [
    {
     "name": "stdout",
     "output_type": "stream",
     "text": [
      "+---+------+\n",
      "| id|degree|\n",
      "+---+------+\n",
      "|ATL|193125|\n",
      "|ORD|153606|\n",
      "|DEN|123894|\n",
      "|LAX|115020|\n",
      "|DFW| 96462|\n",
      "|SFO| 94164|\n",
      "|SEA| 80352|\n",
      "|LAS| 79362|\n",
      "|PHX| 79056|\n",
      "|MSP| 75747|\n",
      "|MCO| 71070|\n",
      "|IAH| 69042|\n",
      "|BOS| 66765|\n",
      "|DTW| 65658|\n",
      "|SLC| 60012|\n",
      "|EWR| 59940|\n",
      "|CLT| 58299|\n",
      "|BWI| 55560|\n",
      "|JFK| 50793|\n",
      "|MDW| 48510|\n",
      "+---+------+\n",
      "only showing top 20 rows\n",
      "\n"
     ]
    },
    {
     "data": {
      "text/plain": [
       "[Row(id=u'ATL', degree=193125)]"
      ]
     },
     "execution_count": 36,
     "metadata": {},
     "output_type": "execute_result"
    }
   ],
   "source": [
    "tripGraph.degrees.sort(desc(\"degree\")).head(1)"
   ]
  },
  {
   "cell_type": "code",
   "execution_count": 14,
   "metadata": {},
   "outputs": [
    {
     "name": "stdout",
     "output_type": "stream",
     "text": [
      "+---+-----+\n",
      "|src|count|\n",
      "+---+-----+\n",
      "|BGM|  255|\n",
      "|INL|  162|\n",
      "|PSE|  279|\n",
      "|DLG|   93|\n",
      "|MSY|11859|\n",
      "|PPG|   39|\n",
      "|GEG| 3354|\n",
      "|SNA|10818|\n",
      "|BUR| 6462|\n",
      "|GRB| 1227|\n",
      "|GTF|  513|\n",
      "|IDA|  669|\n",
      "|GRR| 2976|\n",
      "|JLN|  180|\n",
      "|EUG| 1167|\n",
      "|PSG|  186|\n",
      "|PVD| 3420|\n",
      "|MYR| 2166|\n",
      "|GSO| 1548|\n",
      "|OAK|13476|\n",
      "+---+-----+\n",
      "only showing top 20 rows\n",
      "\n"
     ]
    }
   ],
   "source": [
    "#most number of flights\n",
    "mostflights_in = tripGraph.edges.groupBy(\"src\").count()\n",
    "mostflights_in.show()"
   ]
  },
  {
   "cell_type": "code",
   "execution_count": 40,
   "metadata": {},
   "outputs": [
    {
     "name": "stdout",
     "output_type": "stream",
     "text": [
      "+---+-----+\n",
      "|dst|count|\n",
      "+---+-----+\n",
      "|BGM|  255|\n",
      "|DLG|   93|\n",
      "|INL|  162|\n",
      "|PSE|  279|\n",
      "|MSY|11862|\n",
      "|PPG|   39|\n",
      "|GEG| 3354|\n",
      "|BUR| 6462|\n",
      "|SNA|10818|\n",
      "|GRB| 1230|\n",
      "|GTF|  510|\n",
      "|IDA|  669|\n",
      "|GRR| 2976|\n",
      "|JLN|  180|\n",
      "|EUG| 1164|\n",
      "|PSG|  186|\n",
      "|GSO| 1548|\n",
      "|MYR| 2166|\n",
      "|PVD| 3420|\n",
      "|OAK|13476|\n",
      "+---+-----+\n",
      "only showing top 20 rows\n",
      "\n"
     ]
    }
   ],
   "source": [
    "mostflights_out = tripGraph.edges.groupBy(\"dst\").count()\n",
    "mostflights_out.show()"
   ]
  },
  {
   "cell_type": "code",
   "execution_count": 39,
   "metadata": {},
   "outputs": [
    {
     "data": {
      "text/plain": [
       "[Row(id=u'ATL', pagerank=18.94035344317982),\n",
       " Row(id=u'ORD', pagerank=15.075045933905992),\n",
       " Row(id=u'DEN', pagerank=12.077673683793895),\n",
       " Row(id=u'LAX', pagerank=11.087205765693602),\n",
       " Row(id=u'DFW', pagerank=9.371725090750106),\n",
       " Row(id=u'SFO', pagerank=9.112308905290758),\n",
       " Row(id=u'SEA', pagerank=7.858366914119087),\n",
       " Row(id=u'PHX', pagerank=7.660053586576233),\n",
       " Row(id=u'LAS', pagerank=7.640562780154049),\n",
       " Row(id=u'MSP', pagerank=7.46256513039359),\n",
       " Row(id=u'MCO', pagerank=6.872546778864025),\n",
       " Row(id=u'IAH', pagerank=6.788605577015002),\n",
       " Row(id=u'DTW', pagerank=6.463561452881664),\n",
       " Row(id=u'BOS', pagerank=6.431703967882096),\n",
       " Row(id=u'SLC', pagerank=5.921566639479554),\n",
       " Row(id=u'EWR', pagerank=5.79108633089163),\n",
       " Row(id=u'CLT', pagerank=5.616949417169181),\n",
       " Row(id=u'BWI', pagerank=5.3591629165023615),\n",
       " Row(id=u'JFK', pagerank=4.9186114622316675),\n",
       " Row(id=u'MDW', pagerank=4.6730483476892335),\n",
       " Row(id=u'LGA', pagerank=4.555018999555448),\n",
       " Row(id=u'SAN', pagerank=4.548271420655757),\n",
       " Row(id=u'FLL', pagerank=4.476021461068475),\n",
       " Row(id=u'PHL', pagerank=3.7721522914451384),\n",
       " Row(id=u'DCA', pagerank=3.6714028512566834),\n",
       " Row(id=u'PDX', pagerank=3.5037174072951873),\n",
       " Row(id=u'TPA', pagerank=3.4304954857929935),\n",
       " Row(id=u'DAL', pagerank=3.394355053786046),\n",
       " Row(id=u'MIA', pagerank=3.386630165983122),\n",
       " Row(id=u'STL', pagerank=2.860373039125456)]"
      ]
     },
     "execution_count": 39,
     "metadata": {},
     "output_type": "execute_result"
    }
   ],
   "source": [
    "# Run PageRank algorithm, and show results.\n",
    "results = tripGraph.pageRank(resetProbability=0.01, maxIter=20)\n",
    "results.vertices.select(\"id\", \"pagerank\").sort(\"pagerank\",ascending=False).take(30) ##get the top 30"
   ]
  }
 ],
 "metadata": {
  "kernelspec": {
   "display_name": "Python 2",
   "language": "python",
   "name": "python2"
  },
  "language_info": {
   "codemirror_mode": {
    "name": "ipython",
    "version": 2
   },
   "file_extension": ".py",
   "mimetype": "text/x-python",
   "name": "python",
   "nbconvert_exporter": "python",
   "pygments_lexer": "ipython2",
   "version": "2.7.16"
  }
 },
 "nbformat": 4,
 "nbformat_minor": 2
}
