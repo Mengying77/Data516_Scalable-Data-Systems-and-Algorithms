{
 "cells": [
  {
   "cell_type": "code",
   "execution_count": 2,
   "metadata": {},
   "outputs": [
    {
     "name": "stdout",
     "output_type": "stream",
     "text": [
      "['FL_DATE', 'CARRIER', 'ORIGIN', 'ORIGIN_CITY_NAME', 'ORIGIN_STATE_ABR', 'DEST', 'DEST_CITY_NAME', 'DEST_STATE_ABR', 'DEP_TIME', 'DEP_DELAY', 'ARR_DELAY']\n",
      "['IATA_CODE', 'AIRPORT', 'CITY', 'STATE', 'COUNTRY', 'LATITUDE', 'LONGITUDE']\n"
     ]
    }
   ],
   "source": [
    "# Obtain departure Delays data\n",
    "delay = spark.read.csv(\"s3n://csed516/Flights/flights.csv\", header=\"true\", inferSchema=\"true\")\n",
    "delay.registerTempTable(\"departureDelays\")\n",
    "delay.cache()\n",
    "print(delay.columns)\n",
    "\n",
    "# Obtain airports dataset\n",
    "airports = spark.read.csv(\"s3n://csed516/Flights/airports.csv\", header=\"true\", inferSchema=\"true\")\n",
    "airports.registerTempTable(\"airports\")\n",
    "print(airports.columns)"
   ]
  },
  {
   "cell_type": "code",
   "execution_count": 3,
   "metadata": {},
   "outputs": [
    {
     "data": {
      "text/plain": [
       "1526121"
      ]
     },
     "execution_count": 3,
     "metadata": {},
     "output_type": "execute_result"
    }
   ],
   "source": [
    "# create trip IATA codes table\n",
    "tripIATA = sqlContext.sql(\"\"\"\n",
    "  SELECT DISTINCT IATA FROM(\n",
    "    SELECT DISTINCT ORIGIN AS iata FROM departureDelays \n",
    "    UNION ALL SELECT DISTINCT DEST AS iata FROM departureDelays) x\"\"\")\n",
    "tripIATA.registerTempTable(\"tripIATA\")\n",
    "\n",
    "# Merge airport data with tripIATA data\n",
    "airports = sqlContext.sql(\"\"\"\n",
    "   SELECT IATA_CODE AS IATA, City, State, Country \n",
    "   FROM airports\n",
    "   JOIN tripIATA trip ON trip.IATA = airports.IATA_CODE\"\"\")\n",
    "airports.registerTempTable(\"airports\")\n",
    "airports.cache()\n",
    "\n",
    "# Build `departureDelays_geo` DataFrame\n",
    "# Obtain key attributes such as Date of flight, delays, distance,\n",
    "# and airport information (Origin, Destination)\n",
    "departureDelays_geo = sqlContext.sql(\"\"\"\n",
    "    SELECT CAST(f.FL_DATE as int) as tripid,\n",
    "           CAST(CONCAT(CONCAT(CONCAT(CONCAT(CONCAT(CONCAT('2017-', CONCAT(CONCAT(SUBSTR(CAST(f.FL_DATE as string), 1, 2), '-')), SUBSTR(CAST(f.FL_DATE AS string), 3, 2)), ' '), SUBSTR(CAST(f.FL_DATE AS string), 5, 2)), ':'), SUBSTR(CAST(f.FL_DATE AS string), 7, 2)), ':00') as timestamp) as localdate,\n",
    "           CAST(f.DEP_DELAY as int) as delay, \n",
    "           f.ORIGIN AS src, f.DEST AS dst, o.city AS city_src,\n",
    "           d.city AS city_dst, \n",
    "           o.state AS state_src,\n",
    "           d.state AS state_dst\n",
    "    FROM departureDelays f \n",
    "    JOIN airports o \n",
    "        ON o.IATA = f.ORIGIN \n",
    "    JOIN airports d \n",
    "        ON d.IATA = f.DEST\"\"\")\n",
    "departureDelays_geo.registerTempTable(\"departureDelays_geo\")\n",
    "\n",
    "# Cache and Count\n",
    "departureDelays_geo.cache()\n",
    "departureDelays_geo.count()"
   ]
  },
  {
   "cell_type": "code",
   "execution_count": 4,
   "metadata": {},
   "outputs": [
    {
     "name": "stdout",
     "output_type": "stream",
     "text": [
      "+---+----------------+-----+-------+\n",
      "| id|            City|State|Country|\n",
      "+---+----------------+-----+-------+\n",
      "|FAT|          Fresno|   CA|    USA|\n",
      "|CMH|        Columbus|   OH|    USA|\n",
      "|PHX|         Phoenix|   AZ|    USA|\n",
      "|ITH|          Ithaca|   NY|    USA|\n",
      "|PAH|         Paducah|   KY|    USA|\n",
      "|PSE|           Ponce|   PR|    USA|\n",
      "|COS|Colorado Springs|   CO|    USA|\n",
      "|RNO|            Reno|   NV|    USA|\n",
      "|MYR|    Myrtle Beach|   SC|    USA|\n",
      "|JMS|       Jamestown|   ND|    USA|\n",
      "|SRQ|        Sarasota|   FL|    USA|\n",
      "|VLD|        Valdosta|   GA|    USA|\n",
      "|PSC|           Pasco|   WA|    USA|\n",
      "|CAE|        Columbia|   SC|    USA|\n",
      "|LAX|     Los Angeles|   CA|    USA|\n",
      "|DAY|          Dayton|   OH|    USA|\n",
      "|MFR|         Medford|   OR|    USA|\n",
      "|JFK|        New York|   NY|    USA|\n",
      "|LAS|       Las Vegas|   NV|    USA|\n",
      "|BNA|       Nashville|   TN|    USA|\n",
      "+---+----------------+-----+-------+\n",
      "only showing top 20 rows\n",
      "\n",
      "+----------+-----+---+---+----------+---------+\n",
      "|    tripid|delay|src|dst|  city_dst|state_dst|\n",
      "+----------+-----+---+---+----------+---------+\n",
      "|1498867200|   -2|DTW|BGM|Binghamton|       NY|\n",
      "|1498867200|   -5|DTW|BGM|Binghamton|       NY|\n",
      "|1498953600|   -5|DTW|BGM|Binghamton|       NY|\n",
      "|1498953600|   -3|DTW|BGM|Binghamton|       NY|\n",
      "|1498953600|   -8|DTW|BGM|Binghamton|       NY|\n",
      "|1499040000|   37|DTW|BGM|Binghamton|       NY|\n",
      "|1499126400|   -5|DTW|BGM|Binghamton|       NY|\n",
      "|1499126400|   -6|DTW|BGM|Binghamton|       NY|\n",
      "|1499212800|   53|DTW|BGM|Binghamton|       NY|\n",
      "|1499212800|   -8|DTW|BGM|Binghamton|       NY|\n",
      "|1499212800|   -8|DTW|BGM|Binghamton|       NY|\n",
      "|1499299200|   -5|DTW|BGM|Binghamton|       NY|\n",
      "|1499299200|   -4|DTW|BGM|Binghamton|       NY|\n",
      "|1499299200|   -3|DTW|BGM|Binghamton|       NY|\n",
      "|1499385600|   -9|DTW|BGM|Binghamton|       NY|\n",
      "|1499385600|   -4|DTW|BGM|Binghamton|       NY|\n",
      "|1499385600|   87|DTW|BGM|Binghamton|       NY|\n",
      "|1499472000|   -5|DTW|BGM|Binghamton|       NY|\n",
      "|1499472000|   -5|DTW|BGM|Binghamton|       NY|\n",
      "|1499558400|   -9|DTW|BGM|Binghamton|       NY|\n",
      "+----------+-----+---+---+----------+---------+\n",
      "only showing top 20 rows\n",
      "\n",
      "GraphFrame(v:[id: string, City: string ... 2 more fields], e:[src: string, dst: string ... 4 more fields])\n"
     ]
    }
   ],
   "source": [
    "from pyspark.sql.functions import *\n",
    "from graphframes import *\n",
    "\n",
    "tripVertices = airports.withColumnRenamed(\"IATA\", \"id\").distinct()\n",
    "tripEdges = departureDelays_geo.select(\"tripid\", \"delay\", \"src\", \"dst\", \"city_dst\", \"state_dst\")\n",
    "\n",
    "# Cache the graph\n",
    "tripEdges.cache()\n",
    "tripVertices.cache()\n",
    "\n",
    "# Examine the vertices and edges\n",
    "tripVertices.show()\n",
    "tripEdges.show()\n",
    "\n",
    "# Build the graph\n",
    "tripGraph = GraphFrame(tripVertices, tripEdges)\n",
    "print tripGraph\n",
    "\n",
    "# Project columns to build the smaller datastructure\n",
    "tripEdgesPrime = departureDelays_geo.select(\"tripid\", \"delay\", \"src\", \"dst\")\n",
    "tripGraphPrime = GraphFrame(tripVertices, tripEdgesPrime)"
   ]
  },
  {
   "cell_type": "code",
   "execution_count": 5,
   "metadata": {},
   "outputs": [
    {
     "name": "stdout",
     "output_type": "stream",
     "text": [
      "Airports: 299\n",
      "Trips: 1526121\n"
     ]
    }
   ],
   "source": [
    "#number of vertices and edges?\n",
    "print \"Airports: %d\" % tripGraph.vertices.count()\n",
    "print \"Trips: %d\" % tripGraph.edges.count()"
   ]
  },
  {
   "cell_type": "code",
   "execution_count": 6,
   "metadata": {},
   "outputs": [
    {
     "name": "stdout",
     "output_type": "stream",
     "text": [
      "+----------+\n",
      "|max(delay)|\n",
      "+----------+\n",
      "|      1916|\n",
      "+----------+\n",
      "\n",
      "On-time / Early Flights: 919041\n",
      "Delayed Flights: 590844\n"
     ]
    }
   ],
   "source": [
    "#Finding the longest Delay\n",
    "longestDelay = tripGraph.edges.groupBy().max(\"delay\")\n",
    "longestDelay.show()\n",
    "print \"On-time / Early Flights: %d\" % tripGraph.edges.filter(\"delay <= 0\").count()\n",
    "print \"Delayed Flights: %d\" % tripGraph.edges.filter(\"delay > 0\").count()"
   ]
  },
  {
   "cell_type": "code",
   "execution_count": 7,
   "metadata": {},
   "outputs": [
    {
     "name": "stdout",
     "output_type": "stream",
     "text": [
      "+---+------+\n",
      "| id|degree|\n",
      "+---+------+\n",
      "|ATL|193125|\n",
      "|ORD|153606|\n",
      "|DEN|123894|\n",
      "|LAX|115020|\n",
      "|DFW| 96462|\n",
      "|SFO| 94164|\n",
      "|SEA| 80352|\n",
      "|LAS| 79362|\n",
      "|PHX| 79056|\n",
      "|MSP| 75747|\n",
      "|MCO| 71070|\n",
      "|IAH| 69042|\n",
      "|BOS| 66765|\n",
      "|DTW| 65658|\n",
      "|SLC| 60012|\n",
      "|EWR| 59940|\n",
      "|CLT| 58299|\n",
      "|BWI| 55560|\n",
      "|JFK| 50793|\n",
      "|MDW| 48510|\n",
      "+---+------+\n",
      "only showing top 20 rows\n",
      "\n"
     ]
    }
   ],
   "source": [
    "# Degrees\n",
    "tripGraph.degrees.sort(desc(\"degree\")).show()"
   ]
  },
  {
   "cell_type": "code",
   "execution_count": 9,
   "metadata": {},
   "outputs": [
    {
     "name": "stdout",
     "output_type": "stream",
     "text": [
      "+---+---+------------------+\n",
      "|src|dst|        avg(delay)|\n",
      "+---+---+------------------+\n",
      "|SFO|JAC|           154.625|\n",
      "|SFO|COS| 92.71428571428571|\n",
      "|SFO|FAT| 91.11764705882354|\n",
      "|SFO|FCA| 88.82352941176471|\n",
      "|SFO|ABQ| 78.86666666666666|\n",
      "|SFO|SBP|            71.125|\n",
      "|SFO|ONT| 70.76923076923077|\n",
      "|SFO|SAT|              68.0|\n",
      "|SFO|ACV| 65.47826086956522|\n",
      "|SFO|PSC|            58.625|\n",
      "|SFO|OTH| 54.77777777777778|\n",
      "|SFO|MSY| 54.57142857142857|\n",
      "|SFO|TUS| 52.11538461538461|\n",
      "|SFO|SUN|            51.375|\n",
      "|SFO|LGB| 50.92063492063492|\n",
      "|SFO|ORD| 50.45514950166113|\n",
      "|SFO|RDD|              49.8|\n",
      "|SFO|BFL|48.416666666666664|\n",
      "|SFO|SMF| 48.04081632653061|\n",
      "|SFO|EWR|47.767175572519086|\n",
      "+---+---+------------------+\n",
      "only showing top 20 rows\n",
      "\n"
     ]
    }
   ],
   "source": [
    "tripGraph.edges.filter(\"src = 'SFO' and delay > 0\") \\\n",
    "               .groupBy(\"src\", \"dst\") \\\n",
    "               .avg(\"delay\") \\\n",
    "               .sort(desc(\"avg(delay)\")) \\\n",
    "               .show()"
   ]
  },
  {
   "cell_type": "code",
   "execution_count": 12,
   "metadata": {},
   "outputs": [
    {
     "name": "stdout",
     "output_type": "stream",
     "text": [
      "+---+------------------+\n",
      "|dst|        avg(delay)|\n",
      "+---+------------------+\n",
      "|GEG| 280.6666666666667|\n",
      "|BUR|             181.0|\n",
      "|SNA|             137.0|\n",
      "|EUG|             192.5|\n",
      "|OAK|            157.75|\n",
      "|DCA|             110.0|\n",
      "|RDM|             425.0|\n",
      "|KTN|             108.5|\n",
      "|LIH|             124.0|\n",
      "|IAH|182.57142857142858|\n",
      "|HNL|             139.0|\n",
      "|SJC|             188.0|\n",
      "|LGB|             165.4|\n",
      "|BOS|             153.5|\n",
      "|EWR|133.33333333333334|\n",
      "|LAS|           197.125|\n",
      "|FAI|             127.0|\n",
      "|DEN|             130.3|\n",
      "|BOI|             223.0|\n",
      "|IAD|             154.0|\n",
      "+---+------------------+\n",
      "only showing top 20 rows\n",
      "\n"
     ]
    }
   ],
   "source": [
    "# States with the longest average delays \n",
    "# (with individual delays > 100 minutes) (origin: Seattle)\n",
    "tripGraph.edges.filter(\"src = 'SEA' and delay > 100\").groupBy('dst').avg('delay').show()"
   ]
  },
  {
   "cell_type": "code",
   "execution_count": null,
   "metadata": {},
   "outputs": [],
   "source": []
  }
 ],
 "metadata": {
  "kernelspec": {
   "display_name": "Python 3",
   "language": "python",
   "name": "python3"
  },
  "language_info": {
   "codemirror_mode": {
    "name": "ipython",
    "version": 3
   },
   "file_extension": ".py",
   "mimetype": "text/x-python",
   "name": "python",
   "nbconvert_exporter": "python",
   "pygments_lexer": "ipython3",
   "version": "3.7.3"
  }
 },
 "nbformat": 4,
 "nbformat_minor": 2
}
