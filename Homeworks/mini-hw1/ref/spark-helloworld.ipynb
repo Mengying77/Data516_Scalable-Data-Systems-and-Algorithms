{
 "cells": [
  {
   "cell_type": "code",
   "execution_count": 16,
   "metadata": {},
   "outputs": [],
   "source": [
    "from pyspark.sql import SparkSession\n",
    "\n",
    "spark = SparkSession \\\n",
    "    .builder \\\n",
    "    .appName(\"Hello world\") \\\n",
    "    .getOrCreate()"
   ]
  },
  {
   "cell_type": "code",
   "execution_count": 17,
   "metadata": {},
   "outputs": [],
   "source": [
    "# Directly import a Python list as a parallel RDD.\n",
    "data = [1, 2, 3, 4, 5]\n",
    "distData = sc.parallelize(data)\n",
    "\n",
    "# Read a file from s3.\n",
    "lines = spark.sparkContext.textFile(\"s3n://csed516/gburg.txt\")"
   ]
  },
  {
   "cell_type": "code",
   "execution_count": 11,
   "metadata": {},
   "outputs": [
    {
     "name": "stdout",
     "output_type": "stream",
     "text": [
      "<class 'list'>\n",
      "<class 'pyspark.rdd.RDD'>\n",
      "<class 'pyspark.rdd.RDD'>\n"
     ]
    }
   ],
   "source": [
    "# Python list to RDD\n",
    "data = [1,2,3,4,5,6]\n",
    "print(type(data))\n",
    "dataRDD = sc.parallelize(data)\n",
    "print (type(dataRDD))\n",
    "\n",
    "# ... add RDD to list\n",
    "data = dataRDD.collect()\n",
    "print (type(dataRDD))"
   ]
  },
  {
   "cell_type": "code",
   "execution_count": 15,
   "metadata": {},
   "outputs": [
    {
     "name": "stdout",
     "output_type": "stream",
     "text": [
      "1461\n"
     ]
    }
   ],
   "source": [
    "# Map operation to retrieve length of each line\n",
    "lineLengths = lines.map(lambda s: len(s))\n",
    "\n",
    "# Reduce operation to add all of the lengths to get the length of the entire document.\n",
    "totalLength = lineLengths.reduce(lambda a, b: a + b)  # persist()?\n",
    "print(totalLength)"
   ]
  },
  {
   "cell_type": "code",
   "execution_count": 6,
   "metadata": {},
   "outputs": [
    {
     "name": "stdout",
     "output_type": "stream",
     "text": [
      "277\n"
     ]
    }
   ],
   "source": [
    "# Define a UDF in Python and run it in Spark\n",
    "def udf(s):\n",
    "    words = s.split(\" \")\n",
    "    return len(words)\n",
    "\n",
    "# Import text file from s3 to a RDD.\n",
    "lines = sc.textFile(\"s3n://csed516/gburg.txt\")\n",
    "\n",
    "# Use the python UDF in map instead of a lambda.\n",
    "numWords = lines.map(udf)\n",
    "\n",
    "# Reduce to word in the entire RDD.\n",
    "total = numWords.reduce(lambda a,b : a + b)\n",
    "print(total)"
   ]
  }
 ],
 "metadata": {
  "kernelspec": {
   "display_name": "Python 3",
   "language": "python",
   "name": "python3"
  },
  "language_info": {
   "codemirror_mode": {
    "name": "ipython",
    "version": 3
   },
   "file_extension": ".py",
   "mimetype": "text/x-python",
   "name": "python",
   "nbconvert_exporter": "python",
   "pygments_lexer": "ipython3",
   "version": "3.7.3"
  }
 },
 "nbformat": 4,
 "nbformat_minor": 2
}
