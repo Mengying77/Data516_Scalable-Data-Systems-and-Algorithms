{
 "cells": [
  {
   "cell_type": "code",
   "execution_count": 2,
   "metadata": {
    "collapsed": true
   },
   "outputs": [],
   "source": [
    "import logging\n",
    "logging.getLogger().setLevel(logging.ERROR)\n",
    "logging.basicConfig()\n",
    "\n",
    "import re\n",
    "import apache_beam as beam\n",
    "from apache_beam.io import ReadFromText\n",
    "from apache_beam.io import WriteToText\n",
    "from apache_beam.options.pipeline_options import PipelineOptions\n",
    "from apache_beam.options.pipeline_options import StandardOptions\n",
    "from apache_beam.options.pipeline_options import GoogleCloudOptions\n",
    "\n",
    "\n",
    "from apache_beam.metrics import Metrics\n",
    "from apache_beam.metrics.metric import MetricsFilter\n",
    "\n",
    "input_file = \"muchAdo.txt\"\n",
    "output_file = \"simple_counts\""
   ]
  },
  {
   "cell_type": "markdown",
   "metadata": {},
   "source": [
    "#### Define a simple function that counts the words in the line and returns them"
   ]
  },
  {
   "cell_type": "code",
   "execution_count": 6,
   "metadata": {
    "collapsed": true
   },
   "outputs": [],
   "source": [
    "def process_line(line):\n",
    "    \"\"\"Returns an iterator over the words of this line.\n",
    "\n",
    "    Args:\n",
    "    line: the line being processed\n",
    "\n",
    "    Returns:\n",
    "    The processed line.\n",
    "    \"\"\"\n",
    "    text_line = line.strip()\n",
    "    words = re.findall(r'[A-Za-z\\']+', text_line)\n",
    "    return words"
   ]
  },
  {
   "cell_type": "markdown",
   "metadata": {},
   "source": [
    "### Local Execution\n",
    "Setup pipeline options, these options tell beam how to execute the pipeline."
   ]
  },
  {
   "cell_type": "code",
   "execution_count": 4,
   "metadata": {
    "collapsed": true
   },
   "outputs": [],
   "source": [
    "options = PipelineOptions()\n",
    "options.view_as(StandardOptions).runner = 'DirectRunner'\n"
   ]
  },
  {
   "cell_type": "code",
   "execution_count": 7,
   "metadata": {},
   "outputs": [
    {
     "name": "stderr",
     "output_type": "stream",
     "text": [
      "/usr/local/lib/python2.7/site-packages/apache_beam/coders/typecoders.py:134: UserWarning: Using fallback coder for typehint: <type 'NoneType'>.\n",
      "  warnings.warn('Using fallback coder for typehint: %r.' % typehint)\n"
     ]
    },
    {
     "data": {
      "text/plain": [
       "<PCollection[write/Write/WriteImpl/FinalizeWrite.None] at 0x1076feb10>"
      ]
     },
     "execution_count": 7,
     "metadata": {},
     "output_type": "execute_result"
    }
   ],
   "source": [
    "#Set pipeline options\n",
    "p = beam.Pipeline(options=options)\n",
    "# Lines transform read the text from input file and to create a PCollection which contains all the text lines\n",
    "lines = p | \"read\" >> ReadFromText(input_file)\n",
    "\n",
    "#Counts is a ParDo transform that invokes a function process_lines\n",
    "#on each element that tokenizes the text lines into individual words\n",
    "#this is then transformed to a tuple ('word',count) and grouped and counted to\n",
    "#emit the outputs.\n",
    "counts = (lines\n",
    "          | \"split\" >> beam.ParDo(process_line).with_output_types(unicode)\n",
    "          | \"pair_with_1\" >> beam.Map(lambda x: (x, 1))\n",
    "          | \"group\" >> beam.GroupByKey()\n",
    "          | \"count\" >> beam.Map(lambda(x, ones): (x, sum(ones)))\n",
    "        )\n",
    "\n",
    "output = counts | \"format\" >> beam.Map(lambda(word, c): \"%s: %s\"%(word,c))\n",
    "\n",
    "output | \"write\" >> WriteToText(output_file)"
   ]
  },
  {
   "cell_type": "markdown",
   "metadata": {},
   "source": [
    "### Pipeline Execution\n",
    "The pipeline is defined but not executed, execute the pipeline now."
   ]
  },
  {
   "cell_type": "code",
   "execution_count": 8,
   "metadata": {},
   "outputs": [
    {
     "data": {
      "text/plain": [
       "'DONE'"
      ]
     },
     "execution_count": 8,
     "metadata": {},
     "output_type": "execute_result"
    }
   ],
   "source": [
    "result = p.run()\n",
    "result.wait_until_finish()"
   ]
  },
  {
   "cell_type": "code",
   "execution_count": 6,
   "metadata": {},
   "outputs": [
    {
     "name": "stdout",
     "output_type": "stream",
     "text": [
      "sunburnt: 1\n",
      "pardon: 4\n",
      "needful: 1\n",
      "foul: 8\n",
      "four: 2\n",
      "hath: 67\n",
      "protest: 4\n",
      "sleep: 2\n",
      "friend's: 1\n",
      "hanging: 1\n",
      "appetite: 1\n",
      "evermore: 1\n",
      "saved: 1\n",
      "yonder: 1\n",
      "conjure: 1\n",
      "muzzle: 1\n",
      "vile: 2\n",
      "crept: 1\n",
      "'Shall: 1\n",
      "Watch: 5\n",
      "endings: 1\n",
      "neighbours: 2\n",
      "MUCH: 18\n",
      "\u001b[K\u001b[?1l\u001b>_counts-00000-of-00001\u001b[m\u001b[K\u0007"
     ]
    }
   ],
   "source": [
    "! more \"simple_counts-00000-of-00001\"\n"
   ]
  },
  {
   "cell_type": "markdown",
   "metadata": {},
   "source": [
    "## Remote execution:\n",
    "Lets execute the pipeline in Google cloud now, specify the options below to match\n",
    "your project details.\n"
   ]
  },
  {
   "cell_type": "code",
   "execution_count": 8,
   "metadata": {
    "collapsed": true
   },
   "outputs": [],
   "source": [
    "# For Cloud execution, set the Cloud Platform project, job_name,\n",
    "# staging location, temp_location and specify DataflowRunner.\n",
    "google_cloud_options = options.view_as(GoogleCloudOptions)\n",
    "google_cloud_options.project = 'trim-surfer-187318'\n",
    "google_cloud_options.job_name = 'wordcount'\n",
    "google_cloud_options.staging_location = 'gs://516d/staging/'\n",
    "google_cloud_options.temp_location = 'gs://516d/temp/'\n",
    "options.view_as(StandardOptions).runner = 'DataflowRunner'"
   ]
  },
  {
   "cell_type": "code",
   "execution_count": 9,
   "metadata": {},
   "outputs": [
    {
     "name": "stderr",
     "output_type": "stream",
     "text": [
      "/usr/local/lib/python2.7/site-packages/apache_beam/coders/typecoders.py:134: UserWarning: Using fallback coder for typehint: Any.\n",
      "  warnings.warn('Using fallback coder for typehint: %r.' % typehint)\n"
     ]
    },
    {
     "data": {
      "text/plain": [
       "<PCollection[write/Write/WriteImpl/FinalizeWrite.None] at 0x10f8fad90>"
      ]
     },
     "execution_count": 9,
     "metadata": {},
     "output_type": "execute_result"
    }
   ],
   "source": [
    "#Set pipeline options\n",
    "p = beam.Pipeline(options=options)\n",
    "# Lines transform read the text from input file and to create a PCollection which contains all the text lines\n",
    "lines = p | \"read\" >> ReadFromText(input_file)\n",
    "\n",
    "#Counts is a ParDo transform that invokes a function process_lines\n",
    "#on each element that tokenizes the text lines into individual words\n",
    "#this is then transformed to a tuple ('word',count) and grouped and counted to\n",
    "#emit the outputs.\n",
    "counts = (lines\n",
    "          | \"split\" >> beam.ParDo(process_line).with_output_types(unicode)\n",
    "          | \"pair_with_1\" >> beam.Map(lambda x: (x, 1))\n",
    "          | \"group\" >> beam.GroupByKey()\n",
    "          | \"count\" >> beam.Map(lambda(x, ones): (x, sum(ones)))\n",
    "        )\n",
    "\n",
    "output = counts | \"format\" >> beam.Map(lambda(word, c): \"%s: %s\"%(word,c))\n",
    "\n",
    "output | \"write\" >> WriteToText(output_file)"
   ]
  },
  {
   "cell_type": "code",
   "execution_count": 10,
   "metadata": {},
   "outputs": [
    {
     "name": "stderr",
     "output_type": "stream",
     "text": [
      "/usr/local/lib/python2.7/site-packages/apache_beam/io/gcp/gcsio.py:122: DeprecationWarning: object() takes no parameters\n",
      "  super(GcsIO, cls).__new__(cls, storage_client))\n"
     ]
    },
    {
     "data": {
      "text/plain": [
       "'DONE'"
      ]
     },
     "execution_count": 10,
     "metadata": {},
     "output_type": "execute_result"
    }
   ],
   "source": [
    "result = p.run()\n",
    "result.wait_until_finish()"
   ]
  },
  {
   "cell_type": "markdown",
   "metadata": {},
   "source": [
    "## Using metrics"
   ]
  },
  {
   "cell_type": "code",
   "execution_count": 9,
   "metadata": {
    "collapsed": true
   },
   "outputs": [],
   "source": [
    "class WordExtractingDoFn(beam.DoFn):\n",
    "    \"\"\"Parse each line of input text into words.\"\"\"\n",
    "\n",
    "    def __init__(self):\n",
    "        super(WordExtractingDoFn, self).__init__()\n",
    "        self.word_counter = Metrics.counter(self.__class__, 'num_words')\n",
    "        self.word_lengths_dist = Metrics.distribution(self.__class__, 'word_len_dist')\n",
    "        \n",
    "    def process(self, line):\n",
    "        text_line = line.strip()\n",
    "        words = re.findall(r'[A-Za-z\\']+', text_line)\n",
    "        for word in words:\n",
    "            self.word_counter.inc()\n",
    "            self.word_lengths_dist.update(len(word))\n",
    "        return words"
   ]
  },
  {
   "cell_type": "code",
   "execution_count": 10,
   "metadata": {},
   "outputs": [
    {
     "data": {
      "text/plain": [
       "<PCollection[write/Write/WriteImpl/FinalizeWrite.None] at 0x108516bd0>"
      ]
     },
     "execution_count": 10,
     "metadata": {},
     "output_type": "execute_result"
    }
   ],
   "source": [
    "options = PipelineOptions()\n",
    "options.view_as(StandardOptions).runner = 'DirectRunner'\n",
    "p = beam.Pipeline(options=options)\n",
    "\n",
    "lines = p | 'read' >> ReadFromText(input_file)\n",
    "\n",
    "counts = (lines\n",
    "          | \"split\" >> (beam.ParDo(WordExtractingDoFn()).with_output_types(unicode))\n",
    "          | \"pair_with_1\" >> beam.Map(lambda x: (x, 1))\n",
    "          | \"group\" >> beam.GroupByKey()\n",
    "          | \"count\" >> beam.Map(lambda(x, ones): (x, sum(ones)))\n",
    "         )\n",
    "\n",
    "output = counts | 'format' >> beam.Map(lambda (word, c): '%s: %s' % (word, c))\n",
    "output | 'write' >> WriteToText(output_file)"
   ]
  },
  {
   "cell_type": "code",
   "execution_count": 11,
   "metadata": {
    "collapsed": true
   },
   "outputs": [],
   "source": [
    "result = p.run()"
   ]
  },
  {
   "cell_type": "code",
   "execution_count": 12,
   "metadata": {},
   "outputs": [
    {
     "name": "stdout",
     "output_type": "stream",
     "text": [
      "Average word length: 4.08304042179\n",
      "Number of total words: 22760\n"
     ]
    }
   ],
   "source": [
    "\n",
    "result.wait_until_finish()\n",
    "\n",
    "word_lengths_filter = MetricsFilter().with_name('word_len_dist')\n",
    "query_result = result.metrics().query(word_lengths_filter)\n",
    "if query_result['distributions']:\n",
    "    word_lengths_dist = query_result['distributions'][0]\n",
    "    print 'Average word length: ' + str(word_lengths_dist.committed.mean)\n",
    "    \n",
    "num_words_filer = MetricsFilter().with_name('num_words')\n",
    "query_result = result.metrics().query(num_words_filer)\n",
    "if query_result['counters']:\n",
    "    total_words = query_result['counters'][0]\n",
    "    print 'Number of total words: ' + str(total_words.committed)"
   ]
  },
  {
   "cell_type": "code",
   "execution_count": null,
   "metadata": {
    "collapsed": true
   },
   "outputs": [],
   "source": []
  }
 ],
 "metadata": {
  "kernelspec": {
   "display_name": "Python 3",
   "language": "python",
   "name": "python3"
  },
  "language_info": {
   "codemirror_mode": {
    "name": "ipython",
    "version": 3
   },
   "file_extension": ".py",
   "mimetype": "text/x-python",
   "name": "python",
   "nbconvert_exporter": "python",
   "pygments_lexer": "ipython3",
   "version": "3.7.3"
  }
 },
 "nbformat": 4,
 "nbformat_minor": 2
}
