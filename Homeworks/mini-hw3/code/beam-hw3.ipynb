{
 "cells": [
  {
   "cell_type": "code",
   "execution_count": 1,
   "metadata": {},
   "outputs": [],
   "source": [
    "import logging\n",
    "logging.getLogger().setLevel(logging.ERROR)\n",
    "logging.basicConfig()\n",
    "\n",
    "import re\n",
    "import apache_beam as beam\n",
    "from apache_beam.io import ReadFromText\n",
    "from apache_beam.io import WriteToText\n",
    "from apache_beam.options.pipeline_options import PipelineOptions\n",
    "from apache_beam.options.pipeline_options import StandardOptions\n",
    "from apache_beam.options.pipeline_options import GoogleCloudOptions\n",
    "\n",
    "\n",
    "from apache_beam.metrics import Metrics\n",
    "from apache_beam.metrics.metric import MetricsFilter\n",
    "\n",
    "import time\n",
    "\n",
    "input_file = \"muchAdo.txt\"\n",
    "input_file2 = \"hamlet.txt\"\n",
    "output_file = \"simple_counts\""
   ]
  },
  {
   "cell_type": "markdown",
   "metadata": {},
   "source": [
    "### Local Execution\n",
    "Setup pipeline options, these options tell beam how to execute the pipeline."
   ]
  },
  {
   "cell_type": "markdown",
   "metadata": {},
   "source": [
    "### Pipeline Execution\n",
    "The pipeline is defined but not executed, execute the pipeline now."
   ]
  },
  {
   "cell_type": "markdown",
   "metadata": {},
   "source": [
    "## Using metrics"
   ]
  },
  {
   "cell_type": "code",
   "execution_count": 2,
   "metadata": {},
   "outputs": [],
   "source": [
    "class WordExtractingDoFn(beam.DoFn):\n",
    "    \"\"\"Parse each line of input text into words.\"\"\"\n",
    "\n",
    "    def __init__(self):\n",
    "        super(WordExtractingDoFn, self).__init__()\n",
    "        self.word_counter = Metrics.counter(self.__class__, 'num_words')\n",
    "        self.word_lengths_dist = Metrics.distribution(self.__class__, 'word_len_dist')\n",
    "        \n",
    "    def process(self, line):\n",
    "        text_line = line.strip()\n",
    "        words = re.findall(r'[A-Za-z\\']+', text_line)\n",
    "        for word in words:\n",
    "            self.word_counter.inc()\n",
    "            self.word_lengths_dist.update(len(word))\n",
    "        return words"
   ]
  },
  {
   "cell_type": "code",
   "execution_count": 3,
   "metadata": {},
   "outputs": [
    {
     "name": "stdout",
     "output_type": "stream",
     "text": [
      "CPU times: user 4 µs, sys: 2 µs, total: 6 µs\n",
      "Wall time: 11 µs\n"
     ]
    },
    {
     "data": {
      "text/plain": [
       "<PCollection[write/Write/WriteImpl/FinalizeWrite.None] at 0x11be2a208>"
      ]
     },
     "execution_count": 3,
     "metadata": {},
     "output_type": "execute_result"
    }
   ],
   "source": [
    "%time\n",
    "options = PipelineOptions()\n",
    "options.view_as(StandardOptions).runner = 'DirectRunner'\n",
    "p = beam.Pipeline(options=options)\n",
    "\n",
    "lines = p | 'read' >> ReadFromText(input_file)\n",
    "\n",
    "counts = (lines\n",
    "          | \"split\" >> (beam.ParDo(WordExtractingDoFn()))\n",
    "                        #.with_output_types(unicode))\n",
    "          | \"pair_with_1\" >> beam.Map(lambda x: (x, 1))\n",
    "          | \"group\" >> beam.GroupByKey()\n",
    "          | \"count\" >> beam.MapTuple(lambda x, ones: (x, sum(ones)))\n",
    "         )\n",
    "\n",
    "output = counts | 'format' >> beam.MapTuple(lambda word, c: '%s: %s' % (word, c))\n",
    "output | 'write' >> WriteToText(output_file)"
   ]
  },
  {
   "cell_type": "code",
   "execution_count": 4,
   "metadata": {},
   "outputs": [
    {
     "name": "stdout",
     "output_type": "stream",
     "text": [
      "CPU times: user 5 µs, sys: 1e+03 ns, total: 6 µs\n",
      "Wall time: 12.2 µs\n",
      "muchAdo.txt Pipeline runtime =  1.4645471572875977\n",
      "Average word length: 4.083040421792619\n",
      "word length runtime =  0.0006489753723144531\n",
      "Number of total words: 22760\n",
      "total words runtime =  0.0002639293670654297\n"
     ]
    }
   ],
   "source": [
    "%time\n",
    "start_time = time.time()\n",
    "result = p.run()\n",
    "print(input_file, 'Pipeline runtime = ', time.time()-start_time)\n",
    "\n",
    "result.wait_until_finish()\n",
    "start_time = time.time()\n",
    "word_lengths_filter = MetricsFilter().with_name('word_len_dist')\n",
    "query_result = result.metrics().query(word_lengths_filter)\n",
    "if query_result['distributions']:\n",
    "    word_lengths_dist = query_result['distributions'][0]\n",
    "    print( 'Average word length: ' + str(word_lengths_dist.committed.mean))\n",
    "print('word length runtime = ', time.time()-start_time)\n",
    "\n",
    "start_time = time.time()\n",
    "\n",
    "num_words_filer = MetricsFilter().with_name('num_words')\n",
    "query_result = result.metrics().query(num_words_filer)\n",
    "if query_result['counters']:\n",
    "    total_words = query_result['counters'][0]\n",
    "    print ('Number of total words: ' + str(total_words.committed))\n",
    "print('total words runtime = ', time.time()-start_time)\n"
   ]
  },
  {
   "cell_type": "code",
   "execution_count": 5,
   "metadata": {},
   "outputs": [
    {
     "name": "stdout",
     "output_type": "stream",
     "text": [
      "CPU times: user 5 µs, sys: 1 µs, total: 6 µs\n",
      "Wall time: 12.2 µs\n"
     ]
    },
    {
     "data": {
      "text/plain": [
       "<PCollection[write/Write/WriteImpl/FinalizeWrite.None] at 0x11c605dd8>"
      ]
     },
     "execution_count": 5,
     "metadata": {},
     "output_type": "execute_result"
    }
   ],
   "source": [
    "%time\n",
    "options = PipelineOptions()\n",
    "options.view_as(StandardOptions).runner = 'DirectRunner'\n",
    "p = beam.Pipeline(options=options)\n",
    "\n",
    "lines = p | 'read' >> ReadFromText(input_file2)\n",
    "\n",
    "counts = (lines\n",
    "          | \"split\" >> (beam.ParDo(WordExtractingDoFn()))\n",
    "                        #.with_output_types(unicode))\n",
    "          | \"pair_with_1\" >> beam.Map(lambda x: (x, 1))\n",
    "          | \"group\" >> beam.GroupByKey()\n",
    "          | \"count\" >> beam.MapTuple(lambda x, ones: (x, sum(ones)))\n",
    "         )\n",
    "\n",
    "\n",
    "output = counts | 'format' >> beam.MapTuple(lambda word, c: '%s: %s' % (word, c))\n",
    "output | 'write' >> WriteToText(output_file)"
   ]
  },
  {
   "cell_type": "code",
   "execution_count": 6,
   "metadata": {},
   "outputs": [
    {
     "name": "stdout",
     "output_type": "stream",
     "text": [
      "CPU times: user 5 µs, sys: 1e+03 ns, total: 6 µs\n",
      "Wall time: 11 µs\n",
      "hamlet.txt Pipeline runtime =  1.8088366985321045\n",
      "Average word length: 4.084685978274441\n",
      "word length runtime =  0.0007219314575195312\n",
      "Number of total words: 32036\n",
      "total words runtime =  0.00030493736267089844\n"
     ]
    }
   ],
   "source": [
    "%time\n",
    "start_time = time.time()\n",
    "result = p.run()\n",
    "print(input_file2, 'Pipeline runtime = ', time.time()-start_time)\n",
    "\n",
    "result.wait_until_finish()\n",
    "start_time = time.time()\n",
    "word_lengths_filter = MetricsFilter().with_name('word_len_dist')\n",
    "query_result = result.metrics().query(word_lengths_filter)\n",
    "if query_result['distributions']:\n",
    "    word_lengths_dist = query_result['distributions'][0]\n",
    "    print( 'Average word length: ' + str(word_lengths_dist.committed.mean))\n",
    "print('word length runtime = ', time.time()-start_time)\n",
    "\n",
    "start_time = time.time()\n",
    "\n",
    "num_words_filer = MetricsFilter().with_name('num_words')\n",
    "query_result = result.metrics().query(num_words_filer)\n",
    "if query_result['counters']:\n",
    "    total_words = query_result['counters'][0]\n",
    "    print ('Number of total words: ' + str(total_words.committed))\n",
    "print('total words runtime = ', time.time()-start_time)\n"
   ]
  },
  {
   "cell_type": "code",
   "execution_count": null,
   "metadata": {},
   "outputs": [],
   "source": []
  }
 ],
 "metadata": {
  "kernelspec": {
   "display_name": "Python 3",
   "language": "python",
   "name": "python3"
  },
  "language_info": {
   "codemirror_mode": {
    "name": "ipython",
    "version": 3
   },
   "file_extension": ".py",
   "mimetype": "text/x-python",
   "name": "python",
   "nbconvert_exporter": "python",
   "pygments_lexer": "ipython3",
   "version": "3.7.3"
  }
 },
 "nbformat": 4,
 "nbformat_minor": 2
}
